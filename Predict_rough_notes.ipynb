{
 "cells": [
  {
   "cell_type": "code",
   "execution_count": null,
   "metadata": {},
   "outputs": [],
   "source": [
    "#The dataset to be predicted (1 minute recording from muse-lsl)\n",
    "\n",
    "dataset = \"EEG_recording_2021-09-25-13.53.16.csv\""
   ]
  },
  {
   "cell_type": "code",
   "execution_count": 1,
   "metadata": {},
   "outputs": [],
   "source": [
    "from joblib import dump, load"
   ]
  },
  {
   "cell_type": "code",
   "execution_count": 2,
   "metadata": {},
   "outputs": [
    {
     "name": "stderr",
     "output_type": "stream",
     "text": [
      "/opt/anaconda3/lib/python3.7/site-packages/sklearn/base.py:334: UserWarning: Trying to unpickle estimator DecisionTreeClassifier from version 0.24.2 when using version 0.23.2. This might lead to breaking code or invalid results. Use at your own risk.\n",
      "  UserWarning)\n",
      "/opt/anaconda3/lib/python3.7/site-packages/sklearn/base.py:334: UserWarning: Trying to unpickle estimator RandomForestClassifier from version 0.24.2 when using version 0.23.2. This might lead to breaking code or invalid results. Use at your own risk.\n",
      "  UserWarning)\n"
     ]
    }
   ],
   "source": [
    "#The trained model \n",
    "\n",
    "model = load('model.joblib') "
   ]
  },
  {
   "cell_type": "code",
   "execution_count": 36,
   "metadata": {},
   "outputs": [
    {
     "name": "stdout",
     "output_type": "stream",
     "text": [
      "deleted testing_data/\n",
      "creating testing_data/\n"
     ]
    }
   ],
   "source": [
    "import shutil\n",
    "import os\n",
    "try: \n",
    "    shutil.rmtree(\"testing_data/\")\n",
    "    print(\"deleted testing_data/\")\n",
    "except FileNotFoundError:\n",
    "    print(\"folder testing_data/ does not exist\")\n",
    "    \n",
    "print(\"creating testing_data/\")\n",
    "os.mkdir(\"testing_data/\")"
   ]
  },
  {
   "cell_type": "code",
   "execution_count": 23,
   "metadata": {},
   "outputs": [],
   "source": [
    "#Since the data is recorded using muse-lsl, rescaling is not required\n",
    "\n",
    "import pandas as pd\n",
    "import numpy as np\n",
    "\n",
    "\n",
    "\n",
    "df = pd.read_csv(dataset)\n",
    "df.to_csv(\"testing_data/muse_data_subset-lostinmigration-546728863431538125.csv\", index=False) #giving random name, doesn't matter"
   ]
  },
  {
   "cell_type": "code",
   "execution_count": 37,
   "metadata": {},
   "outputs": [],
   "source": [
    "#This is an example of how to predict using MuseMonitor data\n",
    "\n",
    "import pandas as pd\n",
    "import numpy as np\n",
    "\n",
    "dataset = \"dataset/original_data_main/muse_data_subset-relaxedeyesopen-2464149665160780886.csv\"\n",
    "df = pd.read_csv(dataset)\n",
    "for electrode in [\"TP9\", \"TP10\", \"AF7\", \"AF8\", \"Right AUX\"]:    \n",
    "    data = df[electrode]\n",
    "    data = 0.48828125 * (np.array(data))\n",
    "    data = 1680 * ((data) - data.min()) / (data.max() - data.min())\n",
    "    df[electrode] = data\n",
    "df.to_csv(\"testing_data/muse_data_subset-lostinmigration-546728863431538125.csv\", index=False)"
   ]
  },
  {
   "cell_type": "code",
   "execution_count": 38,
   "metadata": {},
   "outputs": [
    {
     "name": "stdout",
     "output_type": "stream",
     "text": [
      "generating training matrix...\n",
      "Using file muse_data_subset-lostinmigration-546728863431538125.csv\n",
      "resulting vector shape for the file (146, 989)\n",
      "FINAL_MATRIX (146, 989)\n"
     ]
    }
   ],
   "source": [
    "from EEG_generate_training_matrix import gen_training_matrix\n",
    "\n",
    "data_directory_path = \"testing_data/\"\n",
    "preprocessed_data_file_name = \"out_main.csv\"\n",
    "\n",
    "print(\"generating training matrix...\")\n",
    "gen_training_matrix(data_directory_path, preprocessed_data_file_name, cols_to_ignore = -1)"
   ]
  },
  {
   "cell_type": "code",
   "execution_count": 39,
   "metadata": {},
   "outputs": [
    {
     "name": "stdout",
     "output_type": "stream",
     "text": [
      "There are 146 rows and 989 columns\n"
     ]
    },
    {
     "data": {
      "text/html": [
       "<div>\n",
       "<style scoped>\n",
       "    .dataframe tbody tr th:only-of-type {\n",
       "        vertical-align: middle;\n",
       "    }\n",
       "\n",
       "    .dataframe tbody tr th {\n",
       "        vertical-align: top;\n",
       "    }\n",
       "\n",
       "    .dataframe thead th {\n",
       "        text-align: right;\n",
       "    }\n",
       "</style>\n",
       "<table border=\"1\" class=\"dataframe\">\n",
       "  <thead>\n",
       "    <tr style=\"text-align: right;\">\n",
       "      <th></th>\n",
       "      <th>lag1_mean_0</th>\n",
       "      <th>lag1_mean_1</th>\n",
       "      <th>lag1_mean_2</th>\n",
       "      <th>lag1_mean_3</th>\n",
       "      <th>lag1_mean_d_h2h1_0</th>\n",
       "      <th>lag1_mean_d_h2h1_1</th>\n",
       "      <th>lag1_mean_d_h2h1_2</th>\n",
       "      <th>lag1_mean_d_h2h1_3</th>\n",
       "      <th>lag1_mean_q1_0</th>\n",
       "      <th>lag1_mean_q1_1</th>\n",
       "      <th>...</th>\n",
       "      <th>freq_669_3</th>\n",
       "      <th>freq_679_3</th>\n",
       "      <th>freq_689_3</th>\n",
       "      <th>freq_699_3</th>\n",
       "      <th>freq_709_3</th>\n",
       "      <th>freq_720_3</th>\n",
       "      <th>freq_730_3</th>\n",
       "      <th>freq_740_3</th>\n",
       "      <th>freq_750_3</th>\n",
       "      <th>Label</th>\n",
       "    </tr>\n",
       "  </thead>\n",
       "  <tbody>\n",
       "    <tr>\n",
       "      <td>0</td>\n",
       "      <td>1071.276676</td>\n",
       "      <td>768.685500</td>\n",
       "      <td>639.900975</td>\n",
       "      <td>706.125851</td>\n",
       "      <td>-273.358776</td>\n",
       "      <td>-219.830064</td>\n",
       "      <td>276.227510</td>\n",
       "      <td>-77.546966</td>\n",
       "      <td>1132.736649</td>\n",
       "      <td>1116.948067</td>\n",
       "      <td>...</td>\n",
       "      <td>0.009865</td>\n",
       "      <td>0.010657</td>\n",
       "      <td>0.007769</td>\n",
       "      <td>0.005392</td>\n",
       "      <td>0.012197</td>\n",
       "      <td>0.003966</td>\n",
       "      <td>0.010831</td>\n",
       "      <td>0.005418</td>\n",
       "      <td>0.016520</td>\n",
       "      <td>1.0</td>\n",
       "    </tr>\n",
       "    <tr>\n",
       "      <td>1</td>\n",
       "      <td>824.594149</td>\n",
       "      <td>746.314058</td>\n",
       "      <td>727.074124</td>\n",
       "      <td>682.815377</td>\n",
       "      <td>0.659019</td>\n",
       "      <td>-64.251183</td>\n",
       "      <td>-6.585980</td>\n",
       "      <td>14.764608</td>\n",
       "      <td>814.841329</td>\n",
       "      <td>807.022532</td>\n",
       "      <td>...</td>\n",
       "      <td>0.002894</td>\n",
       "      <td>0.002416</td>\n",
       "      <td>0.006410</td>\n",
       "      <td>0.005211</td>\n",
       "      <td>0.003362</td>\n",
       "      <td>0.005110</td>\n",
       "      <td>0.004896</td>\n",
       "      <td>0.001800</td>\n",
       "      <td>0.002019</td>\n",
       "      <td>1.0</td>\n",
       "    </tr>\n",
       "    <tr>\n",
       "      <td>2</td>\n",
       "      <td>834.154571</td>\n",
       "      <td>723.524125</td>\n",
       "      <td>740.559974</td>\n",
       "      <td>678.908204</td>\n",
       "      <td>67.471484</td>\n",
       "      <td>37.631685</td>\n",
       "      <td>20.862080</td>\n",
       "      <td>13.573647</td>\n",
       "      <td>865.315132</td>\n",
       "      <td>767.115154</td>\n",
       "      <td>...</td>\n",
       "      <td>0.019297</td>\n",
       "      <td>0.010011</td>\n",
       "      <td>0.004567</td>\n",
       "      <td>0.003769</td>\n",
       "      <td>0.018248</td>\n",
       "      <td>0.013859</td>\n",
       "      <td>0.015017</td>\n",
       "      <td>0.008345</td>\n",
       "      <td>0.004218</td>\n",
       "      <td>1.0</td>\n",
       "    </tr>\n",
       "    <tr>\n",
       "      <td>3</td>\n",
       "      <td>908.394257</td>\n",
       "      <td>724.008118</td>\n",
       "      <td>707.581870</td>\n",
       "      <td>717.578149</td>\n",
       "      <td>36.576455</td>\n",
       "      <td>-24.799550</td>\n",
       "      <td>-49.660360</td>\n",
       "      <td>-27.242018</td>\n",
       "      <td>891.297809</td>\n",
       "      <td>865.919700</td>\n",
       "      <td>...</td>\n",
       "      <td>0.008484</td>\n",
       "      <td>0.004658</td>\n",
       "      <td>0.004525</td>\n",
       "      <td>0.009194</td>\n",
       "      <td>0.010469</td>\n",
       "      <td>0.011944</td>\n",
       "      <td>0.017437</td>\n",
       "      <td>0.012290</td>\n",
       "      <td>0.012450</td>\n",
       "      <td>1.0</td>\n",
       "    </tr>\n",
       "    <tr>\n",
       "      <td>4</td>\n",
       "      <td>918.667891</td>\n",
       "      <td>752.642088</td>\n",
       "      <td>739.315912</td>\n",
       "      <td>762.554967</td>\n",
       "      <td>-71.623762</td>\n",
       "      <td>-45.449728</td>\n",
       "      <td>-25.367163</td>\n",
       "      <td>-151.866942</td>\n",
       "      <td>873.226697</td>\n",
       "      <td>797.440491</td>\n",
       "      <td>...</td>\n",
       "      <td>0.009302</td>\n",
       "      <td>0.016732</td>\n",
       "      <td>0.005760</td>\n",
       "      <td>0.014159</td>\n",
       "      <td>0.008047</td>\n",
       "      <td>0.008954</td>\n",
       "      <td>0.012452</td>\n",
       "      <td>0.007484</td>\n",
       "      <td>0.013083</td>\n",
       "      <td>1.0</td>\n",
       "    </tr>\n",
       "    <tr>\n",
       "      <td>...</td>\n",
       "      <td>...</td>\n",
       "      <td>...</td>\n",
       "      <td>...</td>\n",
       "      <td>...</td>\n",
       "      <td>...</td>\n",
       "      <td>...</td>\n",
       "      <td>...</td>\n",
       "      <td>...</td>\n",
       "      <td>...</td>\n",
       "      <td>...</td>\n",
       "      <td>...</td>\n",
       "      <td>...</td>\n",
       "      <td>...</td>\n",
       "      <td>...</td>\n",
       "      <td>...</td>\n",
       "      <td>...</td>\n",
       "      <td>...</td>\n",
       "      <td>...</td>\n",
       "      <td>...</td>\n",
       "      <td>...</td>\n",
       "      <td>...</td>\n",
       "    </tr>\n",
       "    <tr>\n",
       "      <td>141</td>\n",
       "      <td>821.205670</td>\n",
       "      <td>764.067106</td>\n",
       "      <td>713.750654</td>\n",
       "      <td>650.491813</td>\n",
       "      <td>-31.021203</td>\n",
       "      <td>19.351349</td>\n",
       "      <td>-32.211119</td>\n",
       "      <td>-33.239980</td>\n",
       "      <td>854.945973</td>\n",
       "      <td>750.014567</td>\n",
       "      <td>...</td>\n",
       "      <td>0.000982</td>\n",
       "      <td>0.008634</td>\n",
       "      <td>0.014337</td>\n",
       "      <td>0.013163</td>\n",
       "      <td>0.012307</td>\n",
       "      <td>0.009119</td>\n",
       "      <td>0.012468</td>\n",
       "      <td>0.008713</td>\n",
       "      <td>0.006256</td>\n",
       "      <td>1.0</td>\n",
       "    </tr>\n",
       "    <tr>\n",
       "      <td>142</td>\n",
       "      <td>921.924188</td>\n",
       "      <td>765.963582</td>\n",
       "      <td>701.191688</td>\n",
       "      <td>695.097082</td>\n",
       "      <td>-167.520629</td>\n",
       "      <td>16.869355</td>\n",
       "      <td>-73.814497</td>\n",
       "      <td>-90.947075</td>\n",
       "      <td>1053.961317</td>\n",
       "      <td>757.652916</td>\n",
       "      <td>...</td>\n",
       "      <td>0.021883</td>\n",
       "      <td>0.002777</td>\n",
       "      <td>0.013716</td>\n",
       "      <td>0.014357</td>\n",
       "      <td>0.003832</td>\n",
       "      <td>0.007958</td>\n",
       "      <td>0.007444</td>\n",
       "      <td>0.010327</td>\n",
       "      <td>0.009880</td>\n",
       "      <td>1.0</td>\n",
       "    </tr>\n",
       "    <tr>\n",
       "      <td>143</td>\n",
       "      <td>868.445813</td>\n",
       "      <td>744.901951</td>\n",
       "      <td>715.278939</td>\n",
       "      <td>665.350015</td>\n",
       "      <td>24.125499</td>\n",
       "      <td>7.557156</td>\n",
       "      <td>11.231799</td>\n",
       "      <td>22.578263</td>\n",
       "      <td>892.654408</td>\n",
       "      <td>743.075175</td>\n",
       "      <td>...</td>\n",
       "      <td>0.009255</td>\n",
       "      <td>0.009964</td>\n",
       "      <td>0.007988</td>\n",
       "      <td>0.007224</td>\n",
       "      <td>0.004053</td>\n",
       "      <td>0.010103</td>\n",
       "      <td>0.010650</td>\n",
       "      <td>0.001304</td>\n",
       "      <td>0.005426</td>\n",
       "      <td>1.0</td>\n",
       "    </tr>\n",
       "    <tr>\n",
       "      <td>144</td>\n",
       "      <td>895.824674</td>\n",
       "      <td>742.371370</td>\n",
       "      <td>708.275421</td>\n",
       "      <td>651.429232</td>\n",
       "      <td>-49.374474</td>\n",
       "      <td>-4.774009</td>\n",
       "      <td>-3.016374</td>\n",
       "      <td>-3.268922</td>\n",
       "      <td>938.223460</td>\n",
       "      <td>750.798331</td>\n",
       "      <td>...</td>\n",
       "      <td>0.020784</td>\n",
       "      <td>0.001182</td>\n",
       "      <td>0.016847</td>\n",
       "      <td>0.005429</td>\n",
       "      <td>0.009055</td>\n",
       "      <td>0.004468</td>\n",
       "      <td>0.014556</td>\n",
       "      <td>0.000700</td>\n",
       "      <td>0.005580</td>\n",
       "      <td>1.0</td>\n",
       "    </tr>\n",
       "    <tr>\n",
       "      <td>145</td>\n",
       "      <td>872.066027</td>\n",
       "      <td>750.352089</td>\n",
       "      <td>763.345659</td>\n",
       "      <td>691.274211</td>\n",
       "      <td>8.702656</td>\n",
       "      <td>15.871500</td>\n",
       "      <td>22.163270</td>\n",
       "      <td>12.029936</td>\n",
       "      <td>863.592959</td>\n",
       "      <td>734.347107</td>\n",
       "      <td>...</td>\n",
       "      <td>0.007822</td>\n",
       "      <td>0.003661</td>\n",
       "      <td>0.008146</td>\n",
       "      <td>0.008530</td>\n",
       "      <td>0.006492</td>\n",
       "      <td>0.013468</td>\n",
       "      <td>0.012393</td>\n",
       "      <td>0.002997</td>\n",
       "      <td>0.007286</td>\n",
       "      <td>1.0</td>\n",
       "    </tr>\n",
       "  </tbody>\n",
       "</table>\n",
       "<p>146 rows × 989 columns</p>\n",
       "</div>"
      ],
      "text/plain": [
       "     lag1_mean_0  lag1_mean_1  lag1_mean_2  lag1_mean_3  lag1_mean_d_h2h1_0  \\\n",
       "0    1071.276676   768.685500   639.900975   706.125851         -273.358776   \n",
       "1     824.594149   746.314058   727.074124   682.815377            0.659019   \n",
       "2     834.154571   723.524125   740.559974   678.908204           67.471484   \n",
       "3     908.394257   724.008118   707.581870   717.578149           36.576455   \n",
       "4     918.667891   752.642088   739.315912   762.554967          -71.623762   \n",
       "..           ...          ...          ...          ...                 ...   \n",
       "141   821.205670   764.067106   713.750654   650.491813          -31.021203   \n",
       "142   921.924188   765.963582   701.191688   695.097082         -167.520629   \n",
       "143   868.445813   744.901951   715.278939   665.350015           24.125499   \n",
       "144   895.824674   742.371370   708.275421   651.429232          -49.374474   \n",
       "145   872.066027   750.352089   763.345659   691.274211            8.702656   \n",
       "\n",
       "     lag1_mean_d_h2h1_1  lag1_mean_d_h2h1_2  lag1_mean_d_h2h1_3  \\\n",
       "0           -219.830064          276.227510          -77.546966   \n",
       "1            -64.251183           -6.585980           14.764608   \n",
       "2             37.631685           20.862080           13.573647   \n",
       "3            -24.799550          -49.660360          -27.242018   \n",
       "4            -45.449728          -25.367163         -151.866942   \n",
       "..                  ...                 ...                 ...   \n",
       "141           19.351349          -32.211119          -33.239980   \n",
       "142           16.869355          -73.814497          -90.947075   \n",
       "143            7.557156           11.231799           22.578263   \n",
       "144           -4.774009           -3.016374           -3.268922   \n",
       "145           15.871500           22.163270           12.029936   \n",
       "\n",
       "     lag1_mean_q1_0  lag1_mean_q1_1  ...  freq_669_3  freq_679_3  freq_689_3  \\\n",
       "0       1132.736649     1116.948067  ...    0.009865    0.010657    0.007769   \n",
       "1        814.841329      807.022532  ...    0.002894    0.002416    0.006410   \n",
       "2        865.315132      767.115154  ...    0.019297    0.010011    0.004567   \n",
       "3        891.297809      865.919700  ...    0.008484    0.004658    0.004525   \n",
       "4        873.226697      797.440491  ...    0.009302    0.016732    0.005760   \n",
       "..              ...             ...  ...         ...         ...         ...   \n",
       "141      854.945973      750.014567  ...    0.000982    0.008634    0.014337   \n",
       "142     1053.961317      757.652916  ...    0.021883    0.002777    0.013716   \n",
       "143      892.654408      743.075175  ...    0.009255    0.009964    0.007988   \n",
       "144      938.223460      750.798331  ...    0.020784    0.001182    0.016847   \n",
       "145      863.592959      734.347107  ...    0.007822    0.003661    0.008146   \n",
       "\n",
       "     freq_699_3  freq_709_3  freq_720_3  freq_730_3  freq_740_3  freq_750_3  \\\n",
       "0      0.005392    0.012197    0.003966    0.010831    0.005418    0.016520   \n",
       "1      0.005211    0.003362    0.005110    0.004896    0.001800    0.002019   \n",
       "2      0.003769    0.018248    0.013859    0.015017    0.008345    0.004218   \n",
       "3      0.009194    0.010469    0.011944    0.017437    0.012290    0.012450   \n",
       "4      0.014159    0.008047    0.008954    0.012452    0.007484    0.013083   \n",
       "..          ...         ...         ...         ...         ...         ...   \n",
       "141    0.013163    0.012307    0.009119    0.012468    0.008713    0.006256   \n",
       "142    0.014357    0.003832    0.007958    0.007444    0.010327    0.009880   \n",
       "143    0.007224    0.004053    0.010103    0.010650    0.001304    0.005426   \n",
       "144    0.005429    0.009055    0.004468    0.014556    0.000700    0.005580   \n",
       "145    0.008530    0.006492    0.013468    0.012393    0.002997    0.007286   \n",
       "\n",
       "     Label  \n",
       "0      1.0  \n",
       "1      1.0  \n",
       "2      1.0  \n",
       "3      1.0  \n",
       "4      1.0  \n",
       "..     ...  \n",
       "141    1.0  \n",
       "142    1.0  \n",
       "143    1.0  \n",
       "144    1.0  \n",
       "145    1.0  \n",
       "\n",
       "[146 rows x 989 columns]"
      ]
     },
     "execution_count": 39,
     "metadata": {},
     "output_type": "execute_result"
    }
   ],
   "source": [
    "nRowsRead = None # specify 'None' if want to read whole file\n",
    "# mental-state.csv has 2360 rows in reality, but we are only loading/previewing the first 1000 rows\n",
    "preprocessed_data_file_name = \"out_main.csv\"\n",
    "df = pd.read_csv(preprocessed_data_file_name, delimiter=',', nrows = nRowsRead)\n",
    "df.dataframeName = preprocessed_data_file_name\n",
    "nRow, nCol = df.shape\n",
    "print(f'There are {nRow} rows and {nCol} columns')"
   ]
  },
  {
   "cell_type": "code",
   "execution_count": 40,
   "metadata": {},
   "outputs": [],
   "source": [
    "X_muse_test = df.drop(\"Label\", axis=1)"
   ]
  },
  {
   "cell_type": "code",
   "execution_count": 41,
   "metadata": {},
   "outputs": [],
   "source": [
    "y_muse_pred = model.predict(X_muse_test)"
   ]
  },
  {
   "cell_type": "code",
   "execution_count": 43,
   "metadata": {},
   "outputs": [],
   "source": [
    "y_muse_pred_proba = model.predict_proba(X_muse_test)"
   ]
  },
  {
   "cell_type": "code",
   "execution_count": 55,
   "metadata": {},
   "outputs": [],
   "source": [
    "relaxed_percentage = y_muse_pred_proba[:,0].mean()"
   ]
  },
  {
   "cell_type": "code",
   "execution_count": 56,
   "metadata": {},
   "outputs": [],
   "source": [
    "active_percentage = y_muse_pred_proba[:,1].mean()"
   ]
  },
  {
   "cell_type": "code",
   "execution_count": 57,
   "metadata": {},
   "outputs": [
    {
     "name": "stdout",
     "output_type": "stream",
     "text": [
      "relaxed percentage: 0.9369634703196348\n",
      "active percentage: 0.0630365296803653\n"
     ]
    }
   ],
   "source": [
    "print(\"relaxed percentage:\",relaxed_percentage)\n",
    "print(\"active percentage:\", active_percentage)"
   ]
  },
  {
   "cell_type": "code",
   "execution_count": 66,
   "metadata": {},
   "outputs": [],
   "source": [
    "active_values = y_muse_pred_proba[:,1]\n",
    "relaxed_values = y_muse_pred_proba[:,0]"
   ]
  },
  {
   "cell_type": "code",
   "execution_count": 67,
   "metadata": {},
   "outputs": [
    {
     "data": {
      "image/png": "[encoded data removed]",
      "text/plain": [
       "<Figure size 432x288 with 1 Axes>"
      ]
     },
     "metadata": {
      "needs_background": "light"
     },
     "output_type": "display_data"
    }
   ],
   "source": [
    "import matplotlib.pyplot as plt\n",
    "plt.plot(active_values, label=\"active chart\")\n",
    "plt.ylabel('Active strength')\n",
    "plt.xlabel('time(seconds)')\n",
    "plt.show()\n"
   ]
  },
  {
   "cell_type": "code",
   "execution_count": 68,
   "metadata": {},
   "outputs": [
    {
     "data": {
      "image/png": "[encoded data removed]",
      "text/plain": [
       "<Figure size 432x288 with 1 Axes>"
      ]
     },
     "metadata": {
      "needs_background": "light"
     },
     "output_type": "display_data"
    }
   ],
   "source": [
    "import matplotlib.pyplot as plt\n",
    "plt.plot(relaxed_values, label=\"relaxed chart\")\n",
    "plt.ylabel('Relaxed strength')\n",
    "plt.xlabel('time(seconds)')\n",
    "plt.show()\n"
   ]
  },
  {
   "cell_type": "code",
   "execution_count": null,
   "metadata": {},
   "outputs": [],
   "source": []
  }
 ],
 "metadata": {
  "kernelspec": {
   "display_name": "Python 3",
   "language": "python",
   "name": "python3"
  },
  "language_info": {
   "codemirror_mode": {
    "name": "ipython",
    "version": 3
   },
   "file_extension": ".py",
   "mimetype": "text/x-python",
   "name": "python",
   "nbconvert_exporter": "python",
   "pygments_lexer": "ipython3",
   "version": "3.7.4"
  }
 },
 "nbformat": 4,
 "nbformat_minor": 2
}
