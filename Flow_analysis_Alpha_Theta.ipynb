{
 "cells": [
  {
   "cell_type": "code",
   "execution_count": 1,
   "metadata": {},
   "outputs": [],
   "source": [
    "#Inherited from https://www.kaggle.com/j105sahil/eeg-brainwave-dataset-mental-state\n",
    "\n",
    "from mpl_toolkits.mplot3d import Axes3D\n",
    "from sklearn.preprocessing import StandardScaler\n",
    "import matplotlib.pyplot as plt # plotting\n",
    "import numpy as np # linear algebra\n",
    "import os # accessing directory structure\n",
    "import pandas as pd # data processing, CSV file I/O (e.g. pd.read_csv)"
   ]
  },
  {
   "cell_type": "code",
   "execution_count": 2,
   "metadata": {},
   "outputs": [],
   "source": [
    "import matplotlib.pyplot as plt\n",
    "import seaborn as sns\n",
    "%matplotlib inline\n",
    "\n",
    "from sklearn.pipeline import Pipeline\n",
    "from sklearn.preprocessing import StandardScaler\n",
    "from sklearn.decomposition import PCA\n",
    "from sklearn.ensemble import RandomForestClassifier\n",
    "from sklearn.svm import LinearSVC\n",
    "from sklearn.model_selection import cross_val_score, train_test_split\n",
    "from sklearn.linear_model import LogisticRegression\n",
    "from sklearn.neural_network import MLPClassifier\n",
    "\n",
    "import xgboost as xgb\n",
    "\n",
    "import warnings\n",
    "warnings.filterwarnings('ignore')\n"
   ]
  },
  {
   "cell_type": "code",
   "execution_count": 41,
   "metadata": {},
   "outputs": [],
   "source": [
    "# df = pd.read_csv(\"EEG_Data/shivaji_eyes_open_museMonitor_2021-07-23--20-55-08_7286353129173446943.csv\")\n",
    "# df = pd.read_csv(\"EEG_Data/shivaji_exam_museMonitor_2021-07-23--22-11-47_6939841188020775822.csv\")\n",
    "\n",
    "# df = pd.read_csv(\"EEG_Data/john_resting_state_museMonitor_2021-07-14--14-41-38_8177544411922518173.csv\")\n",
    "df = pd.read_csv(\"EEG_Data/john_typing_test_museMonitor_2021-07-23--15-43-23_2968548016152010586.csv\")\n",
    "\n",
    "# df = pd.read_csv(\"EEG_Data/avi_eyes_open_museMonitor_2021-07-23--20-59-23_489713457143853172.csv\")\n",
    "\n",
    "# df = pd.read_csv(\"EEG_Data/debbie_eyes_closed_museMonitor_2021-07-23--17-21-29_9153059444903166940.csv\")\n",
    "# df = pd.read_csv(\"dataset/real_time_data/debbie_eyes_open_relaxed.csv\")\n",
    "# df = pd.read_csv(\"dataset/real_time_data/debbie_playing_league_part_1.csv\")\n",
    "del df[\"TimeStamp\"]\n",
    "del df[\"Elements\"]"
   ]
  },
  {
   "cell_type": "code",
   "execution_count": 42,
   "metadata": {},
   "outputs": [],
   "source": [
    "alpha = df['Alpha_TP9'] + df['Alpha_TP10'] \n",
    "beta = df['Beta_TP9'] + df['Beta_TP10'] \n",
    "delta = df['Delta_TP9'] + df['Delta_TP10'] \n",
    "theta = df['Theta_TP9'] + df['Theta_TP10'] \n",
    "gamma = df['Gamma_TP9'] + df['Gamma_TP10']\n",
    "\n",
    "alpha = alpha/2\n",
    "beta = beta/2\n",
    "delta = delta/2\n",
    "theta = theta/2\n",
    "gamma = gamma/2"
   ]
  },
  {
   "cell_type": "code",
   "execution_count": 43,
   "metadata": {},
   "outputs": [],
   "source": [
    "# alpha = df['Alpha_TP9'] + df['Alpha_TP10'] + df['Alpha_AF7'] + df['Alpha_AF8']\n",
    "# beta = df['Beta_TP9'] + df['Beta_TP10'] + df['Beta_AF7'] + df['Beta_AF8']\n",
    "# delta = df['Delta_TP9'] + df['Delta_TP10'] + df['Delta_AF7'] + df['Delta_AF8']\n",
    "# theta = df['Theta_TP9'] + df['Theta_TP10'] + df['Theta_AF7'] + df['Theta_AF8']\n",
    "# gamma = df['Gamma_TP9'] + df['Gamma_TP10'] + df['Gamma_AF7'] + df['Gamma_AF8']\n",
    "\n",
    "# alpha = alpha/4\n",
    "# beta = beta/4\n",
    "# delta = delta/4\n",
    "# theta = theta/4\n",
    "# gamma = gamma/4"
   ]
  },
  {
   "cell_type": "code",
   "execution_count": 44,
   "metadata": {},
   "outputs": [
    {
     "name": "stdout",
     "output_type": "stream",
     "text": [
      "0.12062745217588772 0.12088702280251384 0.21603984941873713 0.15691056373599316\n",
      "0.07298106296937597 0.09152901473912148 0.1296641251567323 0.07377512841657652\n",
      "0.07982628579765302 0.07057593000324663 0.05641402883651305 0.05536037255055578\n"
     ]
    }
   ],
   "source": [
    "print(df['Delta_TP9'].var(), df['Delta_TP10'].var(), df['Delta_AF7'].var(), df['Delta_AF8'].var())\n",
    "print(df['Theta_TP9'].var(), df['Theta_TP10'].var(), df['Theta_AF7'].var(), df['Theta_AF8'].var())\n",
    "print(df['Alpha_TP9'].var(), df['Alpha_TP10'].var(), df['Alpha_AF7'].var(), df['Alpha_AF8'].var())\n"
   ]
  },
  {
   "cell_type": "code",
   "execution_count": 45,
   "metadata": {},
   "outputs": [
    {
     "name": "stdout",
     "output_type": "stream",
     "text": [
      "0.12062745217588772 0.12088702280251384 0.21603984941873713 0.15691056373599316\n",
      "0.07298106296937597 0.09152901473912148 0.1296641251567323 0.07377512841657652\n",
      "0.07982628579765302 0.07057593000324663 0.05641402883651305 0.05536037255055578\n"
     ]
    }
   ],
   "source": [
    "print(df['Delta_TP9'].var(), df['Delta_TP10'].var(), df['Delta_AF7'].var(), df['Delta_AF8'].var())\n",
    "print(df['Theta_TP9'].var(), df['Theta_TP10'].var(), df['Theta_AF7'].var(), df['Theta_AF8'].var())\n",
    "print(df['Alpha_TP9'].var(), df['Alpha_TP10'].var(), df['Alpha_AF7'].var(), df['Alpha_AF8'].var())"
   ]
  },
  {
   "cell_type": "code",
   "execution_count": 46,
   "metadata": {},
   "outputs": [
    {
     "name": "stdout",
     "output_type": "stream",
     "text": [
      "delta variance: 0.10473957668189449\n",
      "theta variance: 0.0568557818437318\n",
      "alpha variance: 0.05710030263889202\n",
      "beta variance: 0.010285445900214065\n",
      "gamma variance: 0.012669392176860098\n"
     ]
    }
   ],
   "source": [
    "print(\"delta variance:\", delta.var())\n",
    "print(\"theta variance:\", theta.var())\n",
    "print(\"alpha variance:\", alpha.var())\n",
    "print(\"beta variance:\", beta.var())\n",
    "print(\"gamma variance:\", gamma.var())"
   ]
  },
  {
   "cell_type": "code",
   "execution_count": 47,
   "metadata": {},
   "outputs": [
    {
     "name": "stdout",
     "output_type": "stream",
     "text": [
      "delta variance: 0.10473957668189449\n",
      "theta variance: 0.0568557818437318\n",
      "alpha variance: 0.05710030263889202\n",
      "beta variance: 0.010285445900214065\n",
      "gamma variance: 0.012669392176860098\n"
     ]
    }
   ],
   "source": [
    "print(\"delta variance:\", delta.var())\n",
    "print(\"theta variance:\", theta.var())\n",
    "print(\"alpha variance:\", alpha.var())\n",
    "print(\"beta variance:\", beta.var())\n",
    "print(\"gamma variance:\", gamma.var())"
   ]
  },
  {
   "cell_type": "code",
   "execution_count": 48,
   "metadata": {},
   "outputs": [],
   "source": [
    "alpha = np.exp(alpha.mean())\n",
    "beta = np.exp(beta.mean())\n",
    "delta = np.exp(delta.mean())\n",
    "theta = np.exp(theta.mean())\n",
    "gamma = np.exp(gamma.mean())\n"
   ]
  },
  {
   "cell_type": "code",
   "execution_count": 49,
   "metadata": {},
   "outputs": [
    {
     "name": "stdout",
     "output_type": "stream",
     "text": [
      "1.5439747976404217 1.2934701703538949 1.5689295190427501 1.2731392561119652 0.9367629429474548\n"
     ]
    }
   ],
   "source": [
    "print(alpha, theta, delta, beta, gamma)"
   ]
  },
  {
   "cell_type": "code",
   "execution_count": 30,
   "metadata": {},
   "outputs": [
    {
     "name": "stdout",
     "output_type": "stream",
     "text": [
      "alpha_over_total: 1.1454783970799918\n",
      "theta_over_total: 1.0145512599147486\n",
      "beta_over_total: 0.9376486247110664\n",
      "gamma_over_total: 0.7245983497267252\n",
      "delta_over_total: 1.1777233685674682\n",
      "engagement: 0.4340906254109591\n"
     ]
    }
   ],
   "source": [
    "total_mean = (alpha + beta + gamma + delta + theta)/5\n",
    "\n",
    "alpha_over_total = alpha/total_mean\n",
    "theta_over_total = theta/total_mean\n",
    "beta_over_total = beta/total_mean\n",
    "gamma_over_total = gamma/total_mean\n",
    "delta_over_total = delta/total_mean\n",
    "\n",
    "print(\"alpha_over_total:\", alpha_over_total)\n",
    "print(\"theta_over_total:\",theta_over_total)\n",
    "print(\"beta_over_total:\",beta_over_total)\n",
    "print(\"gamma_over_total:\", gamma_over_total)\n",
    "print(\"delta_over_total:\", delta_over_total)\n",
    "\n",
    "print(\"engagement:\", beta/(theta+alpha))"
   ]
  },
  {
   "cell_type": "code",
   "execution_count": 50,
   "metadata": {},
   "outputs": [
    {
     "name": "stdout",
     "output_type": "stream",
     "text": [
      "alpha_over_total: 1.1668003553153594\n",
      "theta_over_total: 0.9774909905687642\n",
      "beta_over_total: 0.962126673743371\n",
      "gamma_over_total: 0.7079230414562153\n",
      "delta_over_total: 1.1856589389162906\n",
      "engagement: 0.44869214045476263\n"
     ]
    }
   ],
   "source": [
    "total_mean = (alpha + beta + gamma + delta + theta)/5\n",
    "\n",
    "alpha_over_total = alpha/total_mean\n",
    "theta_over_total = theta/total_mean\n",
    "beta_over_total = beta/total_mean\n",
    "gamma_over_total = gamma/total_mean\n",
    "delta_over_total = delta/total_mean\n",
    "\n",
    "print(\"alpha_over_total:\", alpha_over_total)\n",
    "print(\"theta_over_total:\",theta_over_total)\n",
    "print(\"beta_over_total:\",beta_over_total)\n",
    "print(\"gamma_over_total:\", gamma_over_total)\n",
    "print(\"delta_over_total:\", delta_over_total)\n",
    "\n",
    "print(\"engagement:\", beta/(theta+alpha))"
   ]
  },
  {
   "cell_type": "code",
   "execution_count": null,
   "metadata": {},
   "outputs": [],
   "source": []
  }
 ],
 "metadata": {
  "kernelspec": {
   "display_name": "Python 3",
   "language": "python",
   "name": "python3"
  },
  "language_info": {
   "codemirror_mode": {
    "name": "ipython",
    "version": 3
   },
   "file_extension": ".py",
   "mimetype": "text/x-python",
   "name": "python",
   "nbconvert_exporter": "python",
   "pygments_lexer": "ipython3",
   "version": "3.7.4"
  }
 },
 "nbformat": 4,
 "nbformat_minor": 2
}
