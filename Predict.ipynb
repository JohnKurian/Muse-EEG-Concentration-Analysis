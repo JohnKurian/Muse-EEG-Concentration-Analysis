{
 "cells": [
  {
   "cell_type": "code",
   "execution_count": 182,
   "metadata": {},
   "outputs": [],
   "source": [
    "#The dataset to be predicted (1 minute recording from muse-lsl)\n",
    "\n",
    "dataset = \"lostinmigration_EEG_recording_2021-09-27-13.42.18.csv\""
   ]
  },
  {
   "cell_type": "code",
   "execution_count": 183,
   "metadata": {},
   "outputs": [],
   "source": [
    "from joblib import dump, load"
   ]
  },
  {
   "cell_type": "code",
   "execution_count": 184,
   "metadata": {},
   "outputs": [
    {
     "name": "stderr",
     "output_type": "stream",
     "text": [
      "/opt/anaconda3/lib/python3.7/site-packages/sklearn/base.py:334: UserWarning: Trying to unpickle estimator DecisionTreeClassifier from version 0.24.2 when using version 0.23.2. This might lead to breaking code or invalid results. Use at your own risk.\n",
      "  UserWarning)\n",
      "/opt/anaconda3/lib/python3.7/site-packages/sklearn/base.py:334: UserWarning: Trying to unpickle estimator RandomForestClassifier from version 0.24.2 when using version 0.23.2. This might lead to breaking code or invalid results. Use at your own risk.\n",
      "  UserWarning)\n"
     ]
    }
   ],
   "source": [
    "#The trained model \n",
    "\n",
    "model = load('model.joblib') "
   ]
  },
  {
   "cell_type": "code",
   "execution_count": 185,
   "metadata": {},
   "outputs": [
    {
     "name": "stdout",
     "output_type": "stream",
     "text": [
      "deleted testing_data/\n",
      "creating testing_data/\n"
     ]
    }
   ],
   "source": [
    "import shutil\n",
    "import os\n",
    "try: \n",
    "    shutil.rmtree(\"testing_data/\")\n",
    "    print(\"deleted testing_data/\")\n",
    "except FileNotFoundError:\n",
    "    print(\"folder testing_data/ does not exist\")\n",
    "    \n",
    "print(\"creating testing_data/\")\n",
    "os.mkdir(\"testing_data/\")"
   ]
  },
  {
   "cell_type": "code",
   "execution_count": 186,
   "metadata": {},
   "outputs": [
    {
     "data": {
      "text/html": [
       "<div>\n",
       "<style scoped>\n",
       "    .dataframe tbody tr th:only-of-type {\n",
       "        vertical-align: middle;\n",
       "    }\n",
       "\n",
       "    .dataframe tbody tr th {\n",
       "        vertical-align: top;\n",
       "    }\n",
       "\n",
       "    .dataframe thead th {\n",
       "        text-align: right;\n",
       "    }\n",
       "</style>\n",
       "<table border=\"1\" class=\"dataframe\">\n",
       "  <thead>\n",
       "    <tr style=\"text-align: right;\">\n",
       "      <th></th>\n",
       "      <th>timestamps</th>\n",
       "      <th>TP9</th>\n",
       "      <th>AF7</th>\n",
       "      <th>AF8</th>\n",
       "      <th>TP10</th>\n",
       "      <th>Right AUX</th>\n",
       "    </tr>\n",
       "  </thead>\n",
       "  <tbody>\n",
       "    <tr>\n",
       "      <td>0</td>\n",
       "      <td>1.632750e+09</td>\n",
       "      <td>-18.555</td>\n",
       "      <td>-20.508</td>\n",
       "      <td>-23.926</td>\n",
       "      <td>-0.488</td>\n",
       "      <td>0.0</td>\n",
       "    </tr>\n",
       "    <tr>\n",
       "      <td>1</td>\n",
       "      <td>1.632750e+09</td>\n",
       "      <td>41.504</td>\n",
       "      <td>-11.719</td>\n",
       "      <td>-13.184</td>\n",
       "      <td>140.625</td>\n",
       "      <td>0.0</td>\n",
       "    </tr>\n",
       "    <tr>\n",
       "      <td>2</td>\n",
       "      <td>1.632750e+09</td>\n",
       "      <td>1.953</td>\n",
       "      <td>-9.277</td>\n",
       "      <td>-22.461</td>\n",
       "      <td>12.695</td>\n",
       "      <td>0.0</td>\n",
       "    </tr>\n",
       "    <tr>\n",
       "      <td>3</td>\n",
       "      <td>1.632750e+09</td>\n",
       "      <td>-72.754</td>\n",
       "      <td>-16.602</td>\n",
       "      <td>-27.832</td>\n",
       "      <td>-131.836</td>\n",
       "      <td>0.0</td>\n",
       "    </tr>\n",
       "    <tr>\n",
       "      <td>4</td>\n",
       "      <td>1.632750e+09</td>\n",
       "      <td>-81.055</td>\n",
       "      <td>-24.414</td>\n",
       "      <td>-33.203</td>\n",
       "      <td>-142.578</td>\n",
       "      <td>0.0</td>\n",
       "    </tr>\n",
       "    <tr>\n",
       "      <td>...</td>\n",
       "      <td>...</td>\n",
       "      <td>...</td>\n",
       "      <td>...</td>\n",
       "      <td>...</td>\n",
       "      <td>...</td>\n",
       "      <td>...</td>\n",
       "    </tr>\n",
       "    <tr>\n",
       "      <td>10531</td>\n",
       "      <td>1.632750e+09</td>\n",
       "      <td>15.625</td>\n",
       "      <td>-17.578</td>\n",
       "      <td>-31.738</td>\n",
       "      <td>34.668</td>\n",
       "      <td>0.0</td>\n",
       "    </tr>\n",
       "    <tr>\n",
       "      <td>10532</td>\n",
       "      <td>1.632750e+09</td>\n",
       "      <td>38.574</td>\n",
       "      <td>-13.672</td>\n",
       "      <td>-25.391</td>\n",
       "      <td>102.539</td>\n",
       "      <td>0.0</td>\n",
       "    </tr>\n",
       "    <tr>\n",
       "      <td>10533</td>\n",
       "      <td>1.632750e+09</td>\n",
       "      <td>12.207</td>\n",
       "      <td>-5.859</td>\n",
       "      <td>-23.438</td>\n",
       "      <td>-12.207</td>\n",
       "      <td>0.0</td>\n",
       "    </tr>\n",
       "    <tr>\n",
       "      <td>10534</td>\n",
       "      <td>1.632750e+09</td>\n",
       "      <td>-31.250</td>\n",
       "      <td>-14.648</td>\n",
       "      <td>-26.855</td>\n",
       "      <td>-84.961</td>\n",
       "      <td>0.0</td>\n",
       "    </tr>\n",
       "    <tr>\n",
       "      <td>10535</td>\n",
       "      <td>1.632750e+09</td>\n",
       "      <td>-32.227</td>\n",
       "      <td>-20.996</td>\n",
       "      <td>-25.879</td>\n",
       "      <td>-73.730</td>\n",
       "      <td>0.0</td>\n",
       "    </tr>\n",
       "  </tbody>\n",
       "</table>\n",
       "<p>10536 rows × 6 columns</p>\n",
       "</div>"
      ],
      "text/plain": [
       "         timestamps     TP9     AF7     AF8     TP10  Right AUX\n",
       "0      1.632750e+09 -18.555 -20.508 -23.926   -0.488        0.0\n",
       "1      1.632750e+09  41.504 -11.719 -13.184  140.625        0.0\n",
       "2      1.632750e+09   1.953  -9.277 -22.461   12.695        0.0\n",
       "3      1.632750e+09 -72.754 -16.602 -27.832 -131.836        0.0\n",
       "4      1.632750e+09 -81.055 -24.414 -33.203 -142.578        0.0\n",
       "...             ...     ...     ...     ...      ...        ...\n",
       "10531  1.632750e+09  15.625 -17.578 -31.738   34.668        0.0\n",
       "10532  1.632750e+09  38.574 -13.672 -25.391  102.539        0.0\n",
       "10533  1.632750e+09  12.207  -5.859 -23.438  -12.207        0.0\n",
       "10534  1.632750e+09 -31.250 -14.648 -26.855  -84.961        0.0\n",
       "10535  1.632750e+09 -32.227 -20.996 -25.879  -73.730        0.0\n",
       "\n",
       "[10536 rows x 6 columns]"
      ]
     },
     "execution_count": 186,
     "metadata": {},
     "output_type": "execute_result"
    }
   ],
   "source": [
    "df = pd.read_csv(dataset)\n",
    "df"
   ]
  },
  {
   "cell_type": "code",
   "execution_count": 187,
   "metadata": {},
   "outputs": [],
   "source": [
    "#Since the data is recorded using muse-lsl, rescaling is not required\n",
    "\n",
    "import pandas as pd\n",
    "import numpy as np\n",
    "\n",
    "\n",
    "\n",
    "df = pd.read_csv(dataset)\n",
    "\n",
    "muse_data_subset = df \n",
    "\n",
    "\n",
    "# muse_data_subset.index = muse_data_subset.timestamps.values.astype('datetime64[ms]')\n",
    "muse_data_subset.index = pd.to_datetime(muse_data_subset.timestamps.astype('datetime64[s]'))\n",
    "\n",
    "# muse_data_subset = muse_data_subset[[\"timestamps\", 'TP9', 'AF7', 'AF8', 'TP10', 'Right AUX']]\n",
    "\n",
    "# muse_data_subset = muse_data_subset.resample(\"4ms\", how=\"mean\", fill_method='bfill')\n",
    "\n",
    "\n",
    "muse_data_subset = muse_data_subset.resample(\"4ms\").mean().bfill()\n",
    "\n",
    "# muse_data_subset.columns = [\"TP9\", \"AF7\", \"AF8\", \"TP10\", \"Right AUX\"]\n",
    "\n",
    "muse_data_subset[\"timestamps\"] = pd.to_datetime(muse_data_subset.index, unit='s')\n",
    "\n",
    "muse_data_subset[\"timestamps\"] = pd.to_datetime(muse_data_subset[\"timestamps\"], unit='s').apply(lambda x: x.timestamp())\n",
    "\n",
    "muse_data_subset = muse_data_subset[[\"timestamps\", \"TP9\", \"AF7\", \"AF8\", \"TP10\", \"Right AUX\"]]\n",
    "    \n",
    "    \n",
    "muse_data_subset.to_csv(\"testing_data/muse_data_subset-lostinmigration-546728863431538125.csv\", index=False) #giving random name, doesn't matter"
   ]
  },
  {
   "cell_type": "code",
   "execution_count": 188,
   "metadata": {},
   "outputs": [
    {
     "data": {
      "text/html": [
       "<div>\n",
       "<style scoped>\n",
       "    .dataframe tbody tr th:only-of-type {\n",
       "        vertical-align: middle;\n",
       "    }\n",
       "\n",
       "    .dataframe tbody tr th {\n",
       "        vertical-align: top;\n",
       "    }\n",
       "\n",
       "    .dataframe thead th {\n",
       "        text-align: right;\n",
       "    }\n",
       "</style>\n",
       "<table border=\"1\" class=\"dataframe\">\n",
       "  <thead>\n",
       "    <tr style=\"text-align: right;\">\n",
       "      <th></th>\n",
       "      <th>timestamps</th>\n",
       "      <th>TP9</th>\n",
       "      <th>AF7</th>\n",
       "      <th>AF8</th>\n",
       "      <th>TP10</th>\n",
       "      <th>Right AUX</th>\n",
       "    </tr>\n",
       "    <tr>\n",
       "      <th>timestamps</th>\n",
       "      <th></th>\n",
       "      <th></th>\n",
       "      <th></th>\n",
       "      <th></th>\n",
       "      <th></th>\n",
       "      <th></th>\n",
       "    </tr>\n",
       "  </thead>\n",
       "  <tbody>\n",
       "    <tr>\n",
       "      <td>2021-09-27 13:42:17.000</td>\n",
       "      <td>1.632750e+09</td>\n",
       "      <td>-28.961125</td>\n",
       "      <td>-20.721375</td>\n",
       "      <td>-26.275688</td>\n",
       "      <td>-12.664813</td>\n",
       "      <td>0.0</td>\n",
       "    </tr>\n",
       "    <tr>\n",
       "      <td>2021-09-27 13:42:17.004</td>\n",
       "      <td>1.632750e+09</td>\n",
       "      <td>-23.410766</td>\n",
       "      <td>-24.694453</td>\n",
       "      <td>-24.938586</td>\n",
       "      <td>-14.669422</td>\n",
       "      <td>0.0</td>\n",
       "    </tr>\n",
       "    <tr>\n",
       "      <td>2021-09-27 13:42:17.008</td>\n",
       "      <td>1.632750e+09</td>\n",
       "      <td>-23.410766</td>\n",
       "      <td>-24.694453</td>\n",
       "      <td>-24.938586</td>\n",
       "      <td>-14.669422</td>\n",
       "      <td>0.0</td>\n",
       "    </tr>\n",
       "    <tr>\n",
       "      <td>2021-09-27 13:42:17.012</td>\n",
       "      <td>1.632750e+09</td>\n",
       "      <td>-23.410766</td>\n",
       "      <td>-24.694453</td>\n",
       "      <td>-24.938586</td>\n",
       "      <td>-14.669422</td>\n",
       "      <td>0.0</td>\n",
       "    </tr>\n",
       "    <tr>\n",
       "      <td>2021-09-27 13:42:17.016</td>\n",
       "      <td>1.632750e+09</td>\n",
       "      <td>-23.410766</td>\n",
       "      <td>-24.694453</td>\n",
       "      <td>-24.938586</td>\n",
       "      <td>-14.669422</td>\n",
       "      <td>0.0</td>\n",
       "    </tr>\n",
       "    <tr>\n",
       "      <td>2021-09-27 13:42:17.020</td>\n",
       "      <td>1.632750e+09</td>\n",
       "      <td>-23.410766</td>\n",
       "      <td>-24.694453</td>\n",
       "      <td>-24.938586</td>\n",
       "      <td>-14.669422</td>\n",
       "      <td>0.0</td>\n",
       "    </tr>\n",
       "    <tr>\n",
       "      <td>2021-09-27 13:42:17.024</td>\n",
       "      <td>1.632750e+09</td>\n",
       "      <td>-23.410766</td>\n",
       "      <td>-24.694453</td>\n",
       "      <td>-24.938586</td>\n",
       "      <td>-14.669422</td>\n",
       "      <td>0.0</td>\n",
       "    </tr>\n",
       "    <tr>\n",
       "      <td>2021-09-27 13:42:17.028</td>\n",
       "      <td>1.632750e+09</td>\n",
       "      <td>-23.410766</td>\n",
       "      <td>-24.694453</td>\n",
       "      <td>-24.938586</td>\n",
       "      <td>-14.669422</td>\n",
       "      <td>0.0</td>\n",
       "    </tr>\n",
       "    <tr>\n",
       "      <td>2021-09-27 13:42:17.032</td>\n",
       "      <td>1.632750e+09</td>\n",
       "      <td>-23.410766</td>\n",
       "      <td>-24.694453</td>\n",
       "      <td>-24.938586</td>\n",
       "      <td>-14.669422</td>\n",
       "      <td>0.0</td>\n",
       "    </tr>\n",
       "    <tr>\n",
       "      <td>2021-09-27 13:42:17.036</td>\n",
       "      <td>1.632750e+09</td>\n",
       "      <td>-23.410766</td>\n",
       "      <td>-24.694453</td>\n",
       "      <td>-24.938586</td>\n",
       "      <td>-14.669422</td>\n",
       "      <td>0.0</td>\n",
       "    </tr>\n",
       "  </tbody>\n",
       "</table>\n",
       "</div>"
      ],
      "text/plain": [
       "                           timestamps        TP9        AF7        AF8  \\\n",
       "timestamps                                                               \n",
       "2021-09-27 13:42:17.000  1.632750e+09 -28.961125 -20.721375 -26.275688   \n",
       "2021-09-27 13:42:17.004  1.632750e+09 -23.410766 -24.694453 -24.938586   \n",
       "2021-09-27 13:42:17.008  1.632750e+09 -23.410766 -24.694453 -24.938586   \n",
       "2021-09-27 13:42:17.012  1.632750e+09 -23.410766 -24.694453 -24.938586   \n",
       "2021-09-27 13:42:17.016  1.632750e+09 -23.410766 -24.694453 -24.938586   \n",
       "2021-09-27 13:42:17.020  1.632750e+09 -23.410766 -24.694453 -24.938586   \n",
       "2021-09-27 13:42:17.024  1.632750e+09 -23.410766 -24.694453 -24.938586   \n",
       "2021-09-27 13:42:17.028  1.632750e+09 -23.410766 -24.694453 -24.938586   \n",
       "2021-09-27 13:42:17.032  1.632750e+09 -23.410766 -24.694453 -24.938586   \n",
       "2021-09-27 13:42:17.036  1.632750e+09 -23.410766 -24.694453 -24.938586   \n",
       "\n",
       "                              TP10  Right AUX  \n",
       "timestamps                                     \n",
       "2021-09-27 13:42:17.000 -12.664813        0.0  \n",
       "2021-09-27 13:42:17.004 -14.669422        0.0  \n",
       "2021-09-27 13:42:17.008 -14.669422        0.0  \n",
       "2021-09-27 13:42:17.012 -14.669422        0.0  \n",
       "2021-09-27 13:42:17.016 -14.669422        0.0  \n",
       "2021-09-27 13:42:17.020 -14.669422        0.0  \n",
       "2021-09-27 13:42:17.024 -14.669422        0.0  \n",
       "2021-09-27 13:42:17.028 -14.669422        0.0  \n",
       "2021-09-27 13:42:17.032 -14.669422        0.0  \n",
       "2021-09-27 13:42:17.036 -14.669422        0.0  "
      ]
     },
     "execution_count": 188,
     "metadata": {},
     "output_type": "execute_result"
    }
   ],
   "source": [
    "muse_data_subset.head(10)"
   ]
  },
  {
   "cell_type": "code",
   "execution_count": 189,
   "metadata": {},
   "outputs": [
    {
     "name": "stdout",
     "output_type": "stream",
     "text": [
      "generating training matrix...\n",
      "Using file muse_data_subset-lostinmigration-546728863431538125.csv\n",
      "logm result may be inaccurate, approximate err = 1.8326066074530896e-11\n"
     ]
    },
    {
     "name": "stderr",
     "output_type": "stream",
     "text": [
      "/opt/anaconda3/lib/python3.7/site-packages/scipy/linalg/_matfuncs_inv_ssq.py:829: LogmExactlySingularWarning: The logm input matrix is exactly singular.\n",
      "  warnings.warn(exact_singularity_msg, LogmExactlySingularWarning)\n",
      "/opt/anaconda3/lib/python3.7/site-packages/scipy/linalg/_matfuncs_inv_ssq.py:838: LogmNearlySingularWarning: The logm input matrix may be nearly singular.\n",
      "  warnings.warn(near_singularity_msg, LogmNearlySingularWarning)\n"
     ]
    },
    {
     "name": "stdout",
     "output_type": "stream",
     "text": [
      "resulting vector shape for the file (82, 989)\n",
      "FINAL_MATRIX (82, 989)\n"
     ]
    }
   ],
   "source": [
    "from EEG_generate_training_matrix import gen_training_matrix\n",
    "\n",
    "data_directory_path = \"testing_data/\"\n",
    "preprocessed_data_file_name = \"out_main.csv\"\n",
    "\n",
    "print(\"generating training matrix...\")\n",
    "gen_training_matrix(data_directory_path, preprocessed_data_file_name, cols_to_ignore = -1)"
   ]
  },
  {
   "cell_type": "code",
   "execution_count": 190,
   "metadata": {},
   "outputs": [
    {
     "name": "stdout",
     "output_type": "stream",
     "text": [
      "There are 82 rows and 989 columns\n"
     ]
    }
   ],
   "source": [
    "nRowsRead = None # specify 'None' if want to read whole file\n",
    "# mental-state.csv has 2360 rows in reality, but we are only loading/previewing the first 1000 rows\n",
    "preprocessed_data_file_name = \"out_main.csv\"\n",
    "df = pd.read_csv(preprocessed_data_file_name, delimiter=',', nrows = nRowsRead)\n",
    "df.dataframeName = preprocessed_data_file_name\n",
    "nRow, nCol = df.shape\n",
    "print(f'There are {nRow} rows and {nCol} columns')"
   ]
  },
  {
   "cell_type": "code",
   "execution_count": 191,
   "metadata": {},
   "outputs": [
    {
     "name": "stderr",
     "output_type": "stream",
     "text": [
      "/opt/anaconda3/lib/python3.7/site-packages/pandas/core/dtypes/cast.py:729: ComplexWarning: Casting complex values to real discards the imaginary part\n",
      "  return arr.astype(dtype, copy=True)\n"
     ]
    }
   ],
   "source": [
    "df = df.applymap(complex)\n",
    "df = df.astype(float)"
   ]
  },
  {
   "cell_type": "code",
   "execution_count": 192,
   "metadata": {},
   "outputs": [],
   "source": [
    "X_muse_test = df.drop(\"Label\", axis=1)"
   ]
  },
  {
   "cell_type": "code",
   "execution_count": 193,
   "metadata": {},
   "outputs": [],
   "source": [
    "y_muse_pred = model.predict(X_muse_test)"
   ]
  },
  {
   "cell_type": "code",
   "execution_count": 194,
   "metadata": {},
   "outputs": [],
   "source": [
    "y_muse_pred_proba = model.predict_proba(X_muse_test)"
   ]
  },
  {
   "cell_type": "code",
   "execution_count": 195,
   "metadata": {},
   "outputs": [],
   "source": [
    "relaxed_percentage = y_muse_pred_proba[:,0].mean()"
   ]
  },
  {
   "cell_type": "code",
   "execution_count": 196,
   "metadata": {},
   "outputs": [],
   "source": [
    "active_percentage = y_muse_pred_proba[:,1].mean()"
   ]
  },
  {
   "cell_type": "code",
   "execution_count": 197,
   "metadata": {},
   "outputs": [
    {
     "name": "stdout",
     "output_type": "stream",
     "text": [
      "relaxed percentage: 0.8757317073170732\n",
      "active percentage: 0.12426829268292683\n"
     ]
    }
   ],
   "source": [
    "print(\"relaxed percentage:\",relaxed_percentage)\n",
    "print(\"active percentage:\", active_percentage)"
   ]
  },
  {
   "cell_type": "code",
   "execution_count": 198,
   "metadata": {},
   "outputs": [],
   "source": [
    "active_values = y_muse_pred_proba[:,1]\n",
    "relaxed_values = y_muse_pred_proba[:,0]"
   ]
  },
  {
   "cell_type": "code",
   "execution_count": 199,
   "metadata": {},
   "outputs": [
    {
     "data": {
      "image/png": "[encoded data removed]",
      "text/plain": [
       "<Figure size 432x288 with 1 Axes>"
      ]
     },
     "metadata": {
      "needs_background": "light"
     },
     "output_type": "display_data"
    }
   ],
   "source": [
    "import matplotlib.pyplot as plt\n",
    "plt.plot(active_values, label=\"active chart\")\n",
    "plt.ylabel('Active strength')\n",
    "plt.xlabel('time(seconds)')\n",
    "plt.show()\n"
   ]
  },
  {
   "cell_type": "code",
   "execution_count": 200,
   "metadata": {},
   "outputs": [
    {
     "data": {
      "image/png": "[encoded data removed]",
      "text/plain": [
       "<Figure size 432x288 with 1 Axes>"
      ]
     },
     "metadata": {
      "needs_background": "light"
     },
     "output_type": "display_data"
    }
   ],
   "source": [
    "import matplotlib.pyplot as plt\n",
    "plt.plot(relaxed_values, label=\"relaxed chart\")\n",
    "plt.ylabel('Relaxed strength')\n",
    "plt.xlabel('time(seconds)')\n",
    "plt.show()\n"
   ]
  },
  {
   "cell_type": "code",
   "execution_count": 201,
   "metadata": {},
   "outputs": [
    {
     "data": {
      "text/plain": [
       "(82, 988)"
      ]
     },
     "execution_count": 201,
     "metadata": {},
     "output_type": "execute_result"
    }
   ],
   "source": [
    "X_muse_test.shape"
   ]
  },
  {
   "cell_type": "code",
   "execution_count": null,
   "metadata": {},
   "outputs": [],
   "source": []
  }
 ],
 "metadata": {
  "kernelspec": {
   "display_name": "Python 3",
   "language": "python",
   "name": "python3"
  },
  "language_info": {
   "codemirror_mode": {
    "name": "ipython",
    "version": 3
   },
   "file_extension": ".py",
   "mimetype": "text/x-python",
   "name": "python",
   "nbconvert_exporter": "python",
   "pygments_lexer": "ipython3",
   "version": "3.7.4"
  }
 },
 "nbformat": 4,
 "nbformat_minor": 2
}
