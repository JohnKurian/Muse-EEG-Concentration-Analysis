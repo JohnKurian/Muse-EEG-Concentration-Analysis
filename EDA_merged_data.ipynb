{
 "cells": [
  {
   "cell_type": "code",
   "execution_count": 328,
   "metadata": {},
   "outputs": [],
   "source": [
    "from utils import compute_band_powers\n",
    "import matplotlib.pyplot as plt\n",
    "import pandas as pd\n",
    "import numpy as np\n",
    "import pandas as pd"
   ]
  },
  {
   "cell_type": "code",
   "execution_count": 329,
   "metadata": {},
   "outputs": [],
   "source": [
    "#Since the data is recorded using muse-lsl, rescaling is not required\n",
    "\n",
    "filename = \"highway_hazards_EEG_recording_2021-09-27-13.37.20.csv\"\n",
    "df = pd.read_csv(filename)\n",
    "\n",
    "muse_data_subset = df \n",
    "muse_data_subset.index = pd.to_datetime(muse_data_subset.timestamps.astype('datetime64[s]'))\n",
    "muse_data_subset = muse_data_subset.resample(\"4ms\").mean().bfill()\n",
    "muse_data_subset[\"timestamps\"] = pd.to_datetime(muse_data_subset.index, unit='s')\n",
    "muse_data_subset[\"timestamps\"] = pd.to_datetime(muse_data_subset[\"timestamps\"], unit='s').apply(lambda x: x.timestamp())\n",
    "muse_data_subset = muse_data_subset[[\"timestamps\", \"TP9\", \"AF7\", \"AF8\", \"TP10\", \"Right AUX\"]]\n",
    "    "
   ]
  },
  {
   "cell_type": "code",
   "execution_count": 330,
   "metadata": {},
   "outputs": [],
   "source": [
    "x = muse_data_subset[[\"TP9\", \"AF7\", \"AF8\", \"TP10\"]].to_numpy()"
   ]
  },
  {
   "cell_type": "code",
   "execution_count": 331,
   "metadata": {},
   "outputs": [],
   "source": [
    "data = x\n",
    "data = 0.48828125 * (np.array(data))\n",
    "muse_data = 1680 * ((data) - data.min()) / (data.max() - data.min())"
   ]
  },
  {
   "cell_type": "code",
   "execution_count": 332,
   "metadata": {},
   "outputs": [
    {
     "data": {
      "image/png": "[encoded data removed]",
      "text/plain": [
       "<Figure size 432x288 with 1 Axes>"
      ]
     },
     "metadata": {
      "needs_background": "light"
     },
     "output_type": "display_data"
    }
   ],
   "source": [
    "a_b_tp9_s = []\n",
    "a_b_tp10_s = []\n",
    "\n",
    "for i in range(int(muse_data.shape[0]/250)): \n",
    "    band_powers = compute_band_powers(muse_data[i:250*(i+1)],fs=250)\n",
    "    \n",
    "    for index,electrode in enumerate([\"TP9\", \"AF7\", \"AF8\", \"TP10\"]):\n",
    "        band_power = band_powers[index:index+4]\n",
    "        band_power += band_power[0]\n",
    "        if electrode in [\"TP9\"]:\n",
    "            a_b_tp9 = (band_power[2]+band_power[3])/band_power.sum()\n",
    "            a_b_tp9_s.append(a_b_tp9)\n",
    "            \n",
    "        if electrode in [\"TP10\"]:\n",
    "            a_b_tp10 = (band_power[2]+band_power[3])/band_power.sum()\n",
    "            a_b_tp10_s.append(a_b_tp10)\n",
    "            \n",
    "            \n",
    "            \n",
    "plt.plot(a_b_tp9_s)\n",
    "plt.plot(a_b_tp10_s)\n",
    "plt.show()"
   ]
  },
  {
   "cell_type": "code",
   "execution_count": null,
   "metadata": {},
   "outputs": [],
   "source": []
  }
 ],
 "metadata": {
  "kernelspec": {
   "display_name": "Python 3",
   "language": "python",
   "name": "python3"
  },
  "language_info": {
   "codemirror_mode": {
    "name": "ipython",
    "version": 3
   },
   "file_extension": ".py",
   "mimetype": "text/x-python",
   "name": "python",
   "nbconvert_exporter": "python",
   "pygments_lexer": "ipython3",
   "version": "3.7.4"
  }
 },
 "nbformat": 4,
 "nbformat_minor": 2
}
