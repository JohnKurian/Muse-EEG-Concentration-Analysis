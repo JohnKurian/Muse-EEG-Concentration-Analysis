{
 "cells": [
  {
   "cell_type": "code",
   "execution_count": 9,
   "metadata": {},
   "outputs": [],
   "source": [
    "import pandas as pd\n",
    "df = pd.read_csv(\"high_frequency_data_merged.csv\")"
   ]
  },
  {
   "cell_type": "code",
   "execution_count": 10,
   "metadata": {},
   "outputs": [
    {
     "data": {
      "text/plain": [
       "array(['relaxedeyesopen', 'trainofthought', 'lostinmigration',\n",
       "       'memorymatrix', 'highwayhazards', 'listeningtomusic', 'ebbnflow',\n",
       "       'eyesopenrelaxed', 'clashroyalbattle', 'ankigerman'], dtype=object)"
      ]
     },
     "execution_count": 10,
     "metadata": {},
     "output_type": "execute_result"
    }
   ],
   "source": [
    "df.activity.unique()"
   ]
  },
  {
   "cell_type": "code",
   "execution_count": 11,
   "metadata": {},
   "outputs": [
    {
     "data": {
      "text/plain": [
       "array(['john', 'shivaji', 'debbie', 'avi'], dtype=object)"
      ]
     },
     "execution_count": 11,
     "metadata": {},
     "output_type": "execute_result"
    }
   ],
   "source": [
    "df.username.unique()"
   ]
  },
  {
   "cell_type": "code",
   "execution_count": 12,
   "metadata": {},
   "outputs": [
    {
     "data": {
      "text/plain": [
       "array([3100638375393615385, 3649423997674188510,  812395000665142713,\n",
       "       4065767605511199653,  546728863431538125, 5375896255626783676,\n",
       "       5899397956355388422, 3668349024959736138, 7204990274754184706,\n",
       "        596184221685784165, 2171025817773867597, 8775989028276137295,\n",
       "       8225198636277464759, 5355173754032483197, 3576244041304038151,\n",
       "       1436504476235802958, 7150257222756410990, 3096997785876533241,\n",
       "       6113686263100733512, 7056620377892326606, 5988968383144649033,\n",
       "       2464149665160780886, 6452403524796704079, 7209761156281784481,\n",
       "       4740091793945445892, 6242191196420152544, 2893872429031415422,\n",
       "       5039212824235063542, 8670615045241216559, 8575294319260228973,\n",
       "       3847082174023746694, 5196574737338250029, 2526758316065787514,\n",
       "       7144063780807727884, 7627381142110503632])"
      ]
     },
     "execution_count": 12,
     "metadata": {},
     "output_type": "execute_result"
    }
   ],
   "source": [
    "df.id.unique()"
   ]
  },
  {
   "cell_type": "code",
   "execution_count": null,
   "metadata": {},
   "outputs": [],
   "source": [
    "muse_data_subset = df"
   ]
  },
  {
   "cell_type": "code",
   "execution_count": null,
   "metadata": {},
   "outputs": [],
   "source": [
    "sampled_dfs = []\n",
    "\n",
    "for activity_id in list(df.id.unique()):\n",
    "    print(\"id:\", activity_id)\n",
    "    muse_data_subset = df[df['id'] == activity_id]\n",
    "    \n",
    "    muse_data_subset_id = muse_data_subset['id']\n",
    "    muse_data_subset_activity = muse_data_subset['activity']\n",
    "    \n",
    "    muse_data_subset.index = muse_data_subset.TimeStamp\n",
    "    muse_data_subset.index = pd.to_datetime(muse_data_subset.index)\n",
    "\n",
    "#     muse_data_subset = muse_data_subset[['id',\"TimeStamp\", 'RAW_TP9', 'RAW_AF7', 'RAW_AF8', 'RAW_TP10', 'AUX_RIGHT']]\n",
    "\n",
    "    muse_data_subset = muse_data_subset.resample(\"4ms\", how=\"mean\", fill_method='ffill')\n",
    "    muse_data_subset['id'] = muse_data_subset_id[0]\n",
    "    muse_data_subset['activity'] = muse_data_subset_activity[0]\n",
    "    \n",
    "    sampled_dfs.append(muse_data_subset)\n",
    "#     print(muse_data_subset[\"RAW_TP9\"])\n",
    "    \n",
    "#     df.loc[df['id'] == activity_id, \"RAW_TP9\"] = muse_data_subset[\"RAW_TP9\"]\n",
    "#     break\n",
    "    "
   ]
  },
  {
   "cell_type": "code",
   "execution_count": null,
   "metadata": {},
   "outputs": [],
   "source": [
    "muse_data_subset['Theta_TP10'].plot()"
   ]
  },
  {
   "cell_type": "code",
   "execution_count": 14,
   "metadata": {},
   "outputs": [
    {
     "data": {
      "text/plain": [
       "7627381142110503632    81686\n",
       "8225198636277464759    56966\n",
       "3668349024959736138    43828\n",
       "5899397956355388422    41648\n",
       "7056620377892326606    40838\n",
       "8575294319260228973    38076\n",
       "3649423997674188510    36213\n",
       "3847082174023746694    35444\n",
       "5039212824235063542    34133\n",
       "4065767605511199653    32643\n",
       "4740091793945445892    27772\n",
       "5375896255626783676    27013\n",
       "6452403524796704079    26999\n",
       "2464149665160780886    19056\n",
       "2171025817773867597    18318\n",
       "7204990274754184706    17492\n",
       "7144063780807727884    16861\n",
       "3096997785876533241    15030\n",
       "7150257222756410990    14529\n",
       "6242191196420152544    14485\n",
       "8775989028276137295    14470\n",
       "546728863431538125     14206\n",
       "2893872429031415422    14138\n",
       "5988968383144649033    13957\n",
       "5355173754032483197    13826\n",
       "1436504476235802958    12493\n",
       "596184221685784165     11803\n",
       "812395000665142713     11755\n",
       "3100638375393615385    11388\n",
       "2526758316065787514     9528\n",
       "6113686263100733512     9375\n",
       "3576244041304038151     8981\n",
       "7209761156281784481     7929\n",
       "8670615045241216559     4561\n",
       "5196574737338250029     3809\n",
       "Name: id, dtype: int64"
      ]
     },
     "execution_count": 14,
     "metadata": {},
     "output_type": "execute_result"
    }
   ],
   "source": [
    "df.id.value_counts()"
   ]
  },
  {
   "cell_type": "code",
   "execution_count": 6,
   "metadata": {},
   "outputs": [
    {
     "data": {
      "text/plain": [
       "john       237541\n",
       "avi        129388\n",
       "shivaji    119380\n",
       "debbie      36051\n",
       "Name: username, dtype: int64"
      ]
     },
     "execution_count": 6,
     "metadata": {},
     "output_type": "execute_result"
    }
   ],
   "source": [
    "df[df['id'] == \"museMonitor\"].username.value_counts()"
   ]
  },
  {
   "cell_type": "code",
   "execution_count": 7,
   "metadata": {},
   "outputs": [
    {
     "data": {
      "text/plain": [
       "john       461656\n",
       "shivaji    164779\n",
       "avi        129388\n",
       "debbie      45426\n",
       "Name: username, dtype: int64"
      ]
     },
     "execution_count": 7,
     "metadata": {},
     "output_type": "execute_result"
    }
   ],
   "source": [
    "df.username.value_counts()"
   ]
  },
  {
   "cell_type": "code",
   "execution_count": null,
   "metadata": {},
   "outputs": [],
   "source": [
    "muse_data_subset.index = muse_data_subset.TimeStamp\n",
    "muse_data_subset.index = pd.to_datetime(muse_data_subset.index)\n",
    "\n",
    "muse_data_subset = muse_data_subset[[\"TimeStamp\", 'RAW_TP9', 'RAW_AF7', 'RAW_AF8', 'RAW_TP10', 'AUX_RIGHT']]\n",
    "\n",
    "muse_data_subset = muse_data_subset.resample(\"4ms\", how=\"mean\", fill_method='ffill')"
   ]
  },
  {
   "cell_type": "code",
   "execution_count": null,
   "metadata": {},
   "outputs": [],
   "source": [
    "len(muse_data_subset)"
   ]
  },
  {
   "cell_type": "code",
   "execution_count": null,
   "metadata": {},
   "outputs": [],
   "source": [
    "df[df['id']=='3100638375393615385'][\"RAW_TP9\"]"
   ]
  },
  {
   "cell_type": "code",
   "execution_count": null,
   "metadata": {},
   "outputs": [],
   "source": [
    "len(df.loc[df['id'] == activity_id, \"RAW_TP9\"])"
   ]
  },
  {
   "cell_type": "code",
   "execution_count": null,
   "metadata": {},
   "outputs": [],
   "source": [
    "df[\"TimeStamp\"] = pd.to_datetime(df[\"TimeStamp\"])"
   ]
  },
  {
   "cell_type": "code",
   "execution_count": null,
   "metadata": {},
   "outputs": [],
   "source": [
    "df = df.set_index(df['TimeStamp'])"
   ]
  },
  {
   "cell_type": "code",
   "execution_count": null,
   "metadata": {},
   "outputs": [],
   "source": [
    "df = df.reset_index().set_index('TimeStamp').resample('4ms').fillna(\"backfill\").mean()"
   ]
  },
  {
   "cell_type": "code",
   "execution_count": null,
   "metadata": {},
   "outputs": [],
   "source": [
    "df[df['id'] == \"3100638375393615385\"].resample('4ms').asfreq()"
   ]
  },
  {
   "cell_type": "code",
   "execution_count": null,
   "metadata": {},
   "outputs": [],
   "source": [
    "df['Delta_TP9'] = df['Delta_TP9'].ffill()"
   ]
  },
  {
   "cell_type": "code",
   "execution_count": null,
   "metadata": {},
   "outputs": [],
   "source": [
    "df[df['id'] == \"3100638375393615385\"]"
   ]
  },
  {
   "cell_type": "code",
   "execution_count": null,
   "metadata": {},
   "outputs": [],
   "source": [
    "df"
   ]
  },
  {
   "cell_type": "code",
   "execution_count": null,
   "metadata": {},
   "outputs": [],
   "source": [
    "from pyts.datasets import load_basic_motions"
   ]
  },
  {
   "cell_type": "code",
   "execution_count": null,
   "metadata": {},
   "outputs": [],
   "source": [
    "\n",
    "bunch = load_basic_motions()\n",
    "bunch.data_train.shape\n",
    "\n",
    "X_train, X_test, y_train, y_test = load_basic_motions(return_X_y=True)\n",
    "X_train.shape\n"
   ]
  },
  {
   "cell_type": "code",
   "execution_count": null,
   "metadata": {},
   "outputs": [],
   "source": [
    "X_train[0].shape"
   ]
  },
  {
   "cell_type": "code",
   "execution_count": null,
   "metadata": {},
   "outputs": [],
   "source": [
    "y_train"
   ]
  },
  {
   "cell_type": "code",
   "execution_count": null,
   "metadata": {},
   "outputs": [],
   "source": [
    "import matplotlib.pyplot as plt\n",
    "import numpy as np\n",
    "from pyts.classification import LearningShapelets\n",
    "from pyts.datasets import load_gunpoint\n",
    "from pyts.utils import windowed_view\n",
    "\n",
    "\n",
    "clf = LearningShapelets(random_state=42, tol=0.01)\n",
    "clf.fit(X_train, y_train)"
   ]
  },
  {
   "cell_type": "code",
   "execution_count": null,
   "metadata": {},
   "outputs": [],
   "source": [
    "import sktime"
   ]
  },
  {
   "cell_type": "code",
   "execution_count": null,
   "metadata": {},
   "outputs": [],
   "source": [
    "from pyts.classification import BOSSVS\n",
    "from pyts.datasets import load_basic_motions\n",
    "from pyts.multivariate.classification import MultivariateClassifier\n",
    "X_train, X_test, y_train, y_test = load_basic_motions(return_X_y=True)\n",
    "\n"
   ]
  },
  {
   "cell_type": "code",
   "execution_count": null,
   "metadata": {},
   "outputs": [],
   "source": [
    "## 40 is the number of labels, each label has 100 time steps having 6 features\n",
    "X_train.shape"
   ]
  },
  {
   "cell_type": "code",
   "execution_count": null,
   "metadata": {},
   "outputs": [],
   "source": [
    "clf = MultivariateClassifier(BOSSVS())\n",
    "clf.fit(X_train, y_train)\n",
    "\n",
    "clf.score(X_test, y_test)"
   ]
  },
  {
   "cell_type": "code",
   "execution_count": null,
   "metadata": {},
   "outputs": [],
   "source": []
  },
  {
   "cell_type": "code",
   "execution_count": null,
   "metadata": {},
   "outputs": [],
   "source": []
  },
  {
   "cell_type": "code",
   "execution_count": null,
   "metadata": {},
   "outputs": [],
   "source": []
  },
  {
   "cell_type": "code",
   "execution_count": null,
   "metadata": {},
   "outputs": [],
   "source": [
    "X"
   ]
  },
  {
   "cell_type": "code",
   "execution_count": null,
   "metadata": {},
   "outputs": [],
   "source": []
  }
 ],
 "metadata": {
  "kernelspec": {
   "display_name": "Python 3",
   "language": "python",
   "name": "python3"
  },
  "language_info": {
   "codemirror_mode": {
    "name": "ipython",
    "version": 3
   },
   "file_extension": ".py",
   "mimetype": "text/x-python",
   "name": "python",
   "nbconvert_exporter": "python",
   "pygments_lexer": "ipython3",
   "version": "3.7.4"
  }
 },
 "nbformat": 4,
 "nbformat_minor": 2
}
