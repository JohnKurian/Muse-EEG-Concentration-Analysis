{
 "cells": [
  {
   "cell_type": "code",
   "execution_count": null,
   "metadata": {},
   "outputs": [],
   "source": [
    "import shutil\n",
    "\n",
    "try: \n",
    "    shutil.rmtree(\"high_frequency_datasets_csv/\")\n",
    "    print(\"deleted high_frequency_datasets_csv/\")\n",
    "except FileNotFoundError:\n",
    "    print(\"folder high_frequency_datasets_csv/ does not exist\")\n",
    "\n",
    "print(\"creating high_frequency_datasets_csv/\")\n",
    "os.mkdir(\"high_frequency_datasets_csv/\")"
   ]
  },
  {
   "cell_type": "code",
   "execution_count": null,
   "metadata": {},
   "outputs": [],
   "source": [
    "#open all zips and rename the csvs\n",
    "import os\n",
    "import zipfile\n",
    "\n",
    "for filename in os.listdir(\"high_frequency_datasets\"):\n",
    "    if (filename == \".DS_Store\"):\n",
    "        continue\n",
    "    print(\"filename:\", filename)\n",
    "\n",
    "    zipdata = zipfile.ZipFile('high_frequency_datasets/'+filename)\n",
    "    zipinfos = zipdata.infolist()\n",
    " \n",
    "    for zipinfo in zipinfos:\n",
    "        filename = filename.split(\".\")[0]\n",
    "        filename = filename.replace(\"eyesopenrelaxed\", \"relaxedeyesopen\")\n",
    "        zipinfo.filename = 'high_frequency_datasets_csv/' + filename + \".csv\"\n",
    "        zipdata.extract(zipinfo)"
   ]
  },
  {
   "cell_type": "code",
   "execution_count": null,
   "metadata": {},
   "outputs": [],
   "source": [
    "#merge all csvs into one \n",
    "import pandas as pd\n",
    "\n",
    "dfs = []\n",
    "\n",
    "\n",
    "for filename in os.listdir(\"high_frequency_datasets_csv\"):\n",
    "    df = pd.read_csv(\"high_frequency_datasets_csv/\"+filename)\n",
    "    df['username'] = [filename.split(\"_\")[0]]*len(df)\n",
    "    df['activity'] = [filename.split(\"_\")[1]]*len(df)\n",
    "    df['id'] = [filename.split(\"museMonitor_\")[1].split(\"_\")[1].split(\".\")[0]]*len(df)\n",
    "    dfs.append(df)\n",
    "    "
   ]
  },
  {
   "cell_type": "code",
   "execution_count": null,
   "metadata": {},
   "outputs": [],
   "source": [
    "df = pd.concat(dfs, axis=0)"
   ]
  },
  {
   "cell_type": "code",
   "execution_count": null,
   "metadata": {},
   "outputs": [],
   "source": [
    "df.loc[df.activity == \"eyesopenrelaxed\", \"activity\"] = \"relaxedeyesopen\""
   ]
  },
  {
   "cell_type": "code",
   "execution_count": null,
   "metadata": {},
   "outputs": [],
   "source": [
    "#choose only relaxedeyesopen and lostinmigration activities\n",
    "df = df[(df.activity == \"relaxedeyesopen\") | (df.activity == \"lostinmigration\")]"
   ]
  },
  {
   "cell_type": "code",
   "execution_count": null,
   "metadata": {},
   "outputs": [],
   "source": [
    "import shutil\n",
    "\n",
    "try: \n",
    "    shutil.rmtree(\"dataset/original_data_main/\")\n",
    "    print(\"deleted dataset/original_data_main/\")\n",
    "except FileNotFoundError:\n",
    "    print(\"folder dataset/original_data_main/ does not exist\")\n",
    "\n",
    "print(\"creating dataset/original_data_main/\")\n",
    "os.mkdir(\"dataset/original_data_main/\")\n"
   ]
  },
  {
   "cell_type": "code",
   "execution_count": 137,
   "metadata": {},
   "outputs": [
    {
     "name": "stdout",
     "output_type": "stream",
     "text": [
      "\n",
      "INSTALLED VERSIONS\n",
      "------------------\n",
      "commit           : None\n",
      "\n",
      "pandas           : 0.25.1\n",
      "numpy            : 1.18.0\n",
      "pytz             : 2019.3\n",
      "dateutil         : 2.8.1\n",
      "pip              : 19.2.3\n",
      "setuptools       : 44.0.0\n",
      "Cython           : 0.29.13\n",
      "pytest           : 5.2.1\n",
      "hypothesis       : None\n",
      "sphinx           : 2.2.0\n",
      "blosc            : None\n",
      "feather          : None\n",
      "xlsxwriter       : 1.2.1\n",
      "lxml.etree       : 4.4.1\n",
      "html5lib         : 1.0.1\n",
      "pymysql          : 0.9.3\n",
      "psycopg2         : 2.8.5 (dt dec pq3 ext lo64)\n",
      "jinja2           : 2.10.3\n",
      "IPython          : 7.8.0\n",
      "pandas_datareader: None\n",
      "bs4              : 4.8.0\n",
      "bottleneck       : 1.2.1\n",
      "fastparquet      : None\n",
      "gcsfs            : None\n",
      "lxml.etree       : 4.4.1\n",
      "matplotlib       : 3.1.1\n",
      "numexpr          : 2.7.0\n",
      "odfpy            : None\n",
      "openpyxl         : 3.0.0\n",
      "pandas_gbq       : None\n",
      "pyarrow          : 0.14.1\n",
      "pytables         : None\n",
      "s3fs             : None\n",
      "scipy            : 1.4.1\n",
      "sqlalchemy       : 1.3.9\n",
      "tables           : 3.5.2\n",
      "xarray           : None\n",
      "xlrd             : 1.2.0\n",
      "xlwt             : 1.3.0\n",
      "xlsxwriter       : 1.2.1\n",
      "None\n"
     ]
    }
   ],
   "source": [
    "import pandas as pd\n",
    "print(pd.show_versions())"
   ]
  },
  {
   "cell_type": "code",
   "execution_count": null,
   "metadata": {},
   "outputs": [],
   "source": [
    "sampled_dfs = []\n",
    "\n",
    "for activity_id in list(df.id.unique()):\n",
    "    print(\"id:\", activity_id)\n",
    "    print(len(muse_data_subset[muse_data_subset.index < (muse_data_subset.index[0] + pd.Timedelta(\"1 min\"))]))\n",
    "\n",
    "    \n",
    "    muse_data_subset = df[df['id'] == activity_id]\n",
    "    \n",
    "    muse_data_subset_id = muse_data_subset['id']\n",
    "    muse_data_subset_activity = muse_data_subset['activity'].iloc[0]\n",
    "    \n",
    "    muse_data_subset.index = muse_data_subset.TimeStamp\n",
    "    muse_data_subset.index = pd.to_datetime(muse_data_subset.index)\n",
    "    \n",
    "    muse_data_subset = muse_data_subset[[\"TimeStamp\", 'RAW_TP9', 'RAW_AF7', 'RAW_AF8', 'RAW_TP10', 'AUX_RIGHT']]\n",
    "\n",
    "    muse_data_subset = muse_data_subset.resample(\"4ms\", how=\"mean\", fill_method='bfill')\n",
    "    \n",
    "    muse_data_subset.columns = [\"TP9\", \"AF7\", \"AF8\", \"TP10\", \"Right AUX\"]\n",
    "    \n",
    "    muse_data_subset[\"timestamps\"] = pd.to_datetime(muse_data_subset.index, unit='s')\n",
    "\n",
    "    muse_data_subset[\"timestamps\"] = pd.to_datetime(muse_data_subset[\"timestamps\"], unit='s').apply(lambda x: x.timestamp())\n",
    "\n",
    "    muse_data_subset = muse_data_subset[[\"timestamps\", \"TP9\", \"AF7\", \"AF8\", \"TP10\", \"Right AUX\"]]\n",
    "    \n",
    "    #7500  = 30 seconds\n",
    "    #15000 = 30 seconds\n",
    "#     if len(muse_data_subset[muse_data_subset.index < (muse_data_subset.index[0] + pd.Timedelta(\"1 min\"))]) < 7500:\n",
    "#         continue\n",
    "    \n",
    "    muse_data_subset.to_csv(f\"dataset/original_data_main/muse_data_subset-{muse_data_subset_activity}-{activity_id}.csv\", index=False)\n",
    "\n",
    "print('data preparation done.')\n",
    "    "
   ]
  }
 ],
 "metadata": {
  "kernelspec": {
   "display_name": "Python 3",
   "language": "python",
   "name": "python3"
  },
  "language_info": {
   "codemirror_mode": {
    "name": "ipython",
    "version": 3
   },
   "file_extension": ".py",
   "mimetype": "text/x-python",
   "name": "python",
   "nbconvert_exporter": "python",
   "pygments_lexer": "ipython3",
   "version": "3.7.4"
  }
 },
 "nbformat": 4,
 "nbformat_minor": 2
}
